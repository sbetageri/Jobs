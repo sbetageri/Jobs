{
 "cells": [
  {
   "cell_type": "markdown",
   "metadata": {},
   "source": [
    "## What is Mean Squared Error?\n",
    "\n",
    "Mean Squared Error(MSE) is one of the methods used to ascertain how well a model fits to a given data. It is also known as a **Loss Function**\n",
    "\n",
    "$$ MSE = \\frac{1}{n} \\sum_{i = 1}^n ({y_i - f(x_i)})^2$$"
   ]
  },
  {
   "cell_type": "markdown",
   "metadata": {},
   "source": [
    "## What is Variance in the context of math?\n",
    "\n",
    "Mathematically variance is the spread of the data. Intuitively, it tells us how far away, on average, a data point is from the mean.\n",
    "\n",
    "$$ \\sigma^2 = \\frac{1}{n} \\sum_{i=1}^n (x_i - \\mu)^2 $$\n",
    "\n",
    "Mean = Average = $\\mu$\n",
    "$$ \\mu = \\frac{1}{n} \\sum_{i=1}^n x_i $$\n",
    "\n",
    "## What is Variance in the context of machine learning?\n",
    "\n",
    "In Machine Learning, variance tells us how much the output of a model will vary based on changes to the training data.\n",
    "\n",
    "## What does high variance and low variance mean?\n",
    "\n",
    "High Variance means that small changes to the training data causes a large change to the output.\n",
    "\n",
    "Low Variance means that small changes to the training data causes small changes to the output. "
   ]
  },
  {
   "cell_type": "code",
   "execution_count": null,
   "metadata": {},
   "outputs": [],
   "source": []
  }
 ],
 "metadata": {
  "kernelspec": {
   "display_name": "Python 3",
   "language": "python",
   "name": "python3"
  },
  "language_info": {
   "codemirror_mode": {
    "name": "ipython",
    "version": 3
   },
   "file_extension": ".py",
   "mimetype": "text/x-python",
   "name": "python",
   "nbconvert_exporter": "python",
   "pygments_lexer": "ipython3",
   "version": "3.6.7"
  }
 },
 "nbformat": 4,
 "nbformat_minor": 2
}
