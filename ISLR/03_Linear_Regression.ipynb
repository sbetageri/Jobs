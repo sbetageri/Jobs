{
 "cells": [
  {
   "cell_type": "markdown",
   "metadata": {},
   "source": [
    "# Linear Regression"
   ]
  },
  {
   "cell_type": "markdown",
   "metadata": {},
   "source": [
    "## What is interaction effect?\n",
    "\n",
    "Suppose we have a few features that affect a target variable. Instead of increasing a single feature by a large amount, we instead increase a few features(could be all the features, could be a few of them) by a corresponding amount. We find that increasing a few has a better effect. \n",
    "\n",
    "Example:\n",
    "\n",
    "Suppose $y$ is dependent on $x_1$ and $x_2$.\n",
    "\n",
    "Instead of increasing either $x_1$ or $x_2$ by a value of 10. We instead increase both by 5 and find that $y$ increases more than when either is increased by 10."
   ]
  },
  {
   "cell_type": "markdown",
   "metadata": {},
   "source": [
    "## What is Simple linear regression?\n",
    "\n",
    "Simple linear regression is when a target variable $y$ is said to have a linear relationship with a feature $x$. Thus, their relationship can be represented as \n",
    "\n",
    "$ \\hat{y} = b_0 + b_1 \\cdot x $"
   ]
  },
  {
   "cell_type": "markdown",
   "metadata": {},
   "source": [
    "## What do the terms in a simple linear regression mean?\n",
    "\n",
    "$ \\hat{y} = b_0 + b_1 \\cdot x $\n",
    "\n",
    "$ \\hat{y} = \\text{Target Variable (Predicted Value)}$\n",
    "\n",
    "$b_0 = \\text{intercept}$\n",
    "\n",
    "$b_1 = \\text{slope}$\n",
    "\n",
    "$x = \\text{feature}$"
   ]
  },
  {
   "cell_type": "markdown",
   "metadata": {},
   "source": [
    "## What are the parameters/co-efficients of a simple linear regression?\n",
    "\n",
    "$b_0$ and $b_1$ are considered the parameters of Simple Linear Regression. "
   ]
  },
  {
   "cell_type": "markdown",
   "metadata": {},
   "source": [
    "## What is residual?\n",
    "\n",
    "Residual is the difference between the predicted value and the target value, for the $i^{th}$ data-point."
   ]
  },
  {
   "cell_type": "markdown",
   "metadata": {},
   "source": [
    "## What is Residual Sum of Squares(RSS)?\n",
    "\n",
    "Assuming that a residual is represented as $e_i$, we have \n",
    "\n",
    "$RSS = e_1^2 + e_2^2 + e_3^2 + ... + e_n^2 $"
   ]
  },
  {
   "cell_type": "markdown",
   "metadata": {},
   "source": [
    "## What is row rank and column rank of a matrix?\n",
    "\n",
    "Row rank of a matrix is the number of rows in the given matrix, that are linearly independent of each other. \n",
    "\n",
    "Column rank is the number of columns that are linearly independent of each other. "
   ]
  },
  {
   "cell_type": "markdown",
   "metadata": {},
   "source": [
    "## What is population and sample?\n",
    "\n",
    "Population is the entire collection of data that is available in the universe. \n",
    "\n",
    "Sample is just the measurement of a few data points that we have taken."
   ]
  },
  {
   "cell_type": "markdown",
   "metadata": {},
   "source": [
    "## What is Confidence Interval?\n",
    "\n",
    "A confidence interval of 95% on a statistic that we measured simply implies that we will obtain the same statistic 95% of the time we calculate the stat using different samples from the population."
   ]
  },
  {
   "cell_type": "markdown",
   "metadata": {},
   "source": [
    "## Find out about T-statistic, p-value, null hypothesis and hypothesis testing."
   ]
  },
  {
   "cell_type": "markdown",
   "metadata": {},
   "source": [
    "## What is Null Hypothesis?\n",
    "\n",
    "Null hypothesis, in the context of machine learning, is when a model does not learn, but makes the best possible guess. Say there is a classifier of 5 classes. Instead of predicting based on a given input, it just predicts one single class. On average, it will have an accuracy of **20%**. This is considered a null hypothesis. "
   ]
  },
  {
   "cell_type": "code",
   "execution_count": null,
   "metadata": {},
   "outputs": [],
   "source": []
  },
  {
   "cell_type": "code",
   "execution_count": null,
   "metadata": {},
   "outputs": [],
   "source": []
  },
  {
   "cell_type": "code",
   "execution_count": null,
   "metadata": {},
   "outputs": [],
   "source": []
  },
  {
   "cell_type": "code",
   "execution_count": null,
   "metadata": {},
   "outputs": [],
   "source": []
  },
  {
   "cell_type": "code",
   "execution_count": null,
   "metadata": {},
   "outputs": [],
   "source": []
  },
  {
   "cell_type": "code",
   "execution_count": null,
   "metadata": {},
   "outputs": [],
   "source": []
  },
  {
   "cell_type": "code",
   "execution_count": null,
   "metadata": {},
   "outputs": [],
   "source": []
  },
  {
   "cell_type": "code",
   "execution_count": null,
   "metadata": {},
   "outputs": [],
   "source": []
  },
  {
   "cell_type": "code",
   "execution_count": null,
   "metadata": {},
   "outputs": [],
   "source": []
  },
  {
   "cell_type": "code",
   "execution_count": null,
   "metadata": {},
   "outputs": [],
   "source": []
  },
  {
   "cell_type": "code",
   "execution_count": null,
   "metadata": {},
   "outputs": [],
   "source": []
  },
  {
   "cell_type": "code",
   "execution_count": null,
   "metadata": {},
   "outputs": [],
   "source": []
  },
  {
   "cell_type": "code",
   "execution_count": null,
   "metadata": {},
   "outputs": [],
   "source": []
  },
  {
   "cell_type": "code",
   "execution_count": null,
   "metadata": {},
   "outputs": [],
   "source": []
  },
  {
   "cell_type": "code",
   "execution_count": null,
   "metadata": {},
   "outputs": [],
   "source": []
  },
  {
   "cell_type": "code",
   "execution_count": null,
   "metadata": {},
   "outputs": [],
   "source": []
  },
  {
   "cell_type": "code",
   "execution_count": null,
   "metadata": {},
   "outputs": [],
   "source": []
  },
  {
   "cell_type": "code",
   "execution_count": null,
   "metadata": {},
   "outputs": [],
   "source": []
  },
  {
   "cell_type": "code",
   "execution_count": null,
   "metadata": {},
   "outputs": [],
   "source": []
  },
  {
   "cell_type": "code",
   "execution_count": null,
   "metadata": {},
   "outputs": [],
   "source": []
  },
  {
   "cell_type": "code",
   "execution_count": null,
   "metadata": {},
   "outputs": [],
   "source": []
  },
  {
   "cell_type": "code",
   "execution_count": null,
   "metadata": {},
   "outputs": [],
   "source": []
  },
  {
   "cell_type": "code",
   "execution_count": null,
   "metadata": {},
   "outputs": [],
   "source": []
  },
  {
   "cell_type": "code",
   "execution_count": null,
   "metadata": {},
   "outputs": [],
   "source": []
  },
  {
   "cell_type": "code",
   "execution_count": null,
   "metadata": {},
   "outputs": [],
   "source": []
  },
  {
   "cell_type": "code",
   "execution_count": null,
   "metadata": {},
   "outputs": [],
   "source": []
  },
  {
   "cell_type": "code",
   "execution_count": null,
   "metadata": {},
   "outputs": [],
   "source": []
  }
 ],
 "metadata": {
  "kernelspec": {
   "display_name": "Python 3",
   "language": "python",
   "name": "python3"
  },
  "language_info": {
   "codemirror_mode": {
    "name": "ipython",
    "version": 3
   },
   "file_extension": ".py",
   "mimetype": "text/x-python",
   "name": "python",
   "nbconvert_exporter": "python",
   "pygments_lexer": "ipython3",
   "version": "3.6.7"
  }
 },
 "nbformat": 4,
 "nbformat_minor": 2
}
