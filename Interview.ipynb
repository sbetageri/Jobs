{
 "cells": [
  {
   "cell_type": "markdown",
   "metadata": {},
   "source": [
    "## General Questions"
   ]
  },
  {
   "cell_type": "markdown",
   "metadata": {},
   "source": [
    "#### 1. What is Machine Learning? What are its various applications? Why is Machine Learning gaining so much attraction now-a-days?"
   ]
  },
  {
   "cell_type": "markdown",
   "metadata": {},
   "source": [
    "Machine learning is a subset of Data Science where we don't explicitly program the machine to do a certain task, but the computer learns, on its own, by looking at various training samples."
   ]
  },
  {
   "cell_type": "markdown",
   "metadata": {},
   "source": [
    "#### 2. What is the difference between Artificial Intelligence, Machine Learning and Deep Learning"
   ]
  },
  {
   "cell_type": "markdown",
   "metadata": {},
   "source": [
    "AI can be considered to be Artificial General Intelligence where a machine has human level intelligence. Basically an AI can pass the Turing Test. \n",
    "\n",
    "Machine Learning is a subset of Data Science where we don't explicitly program the computer to perform a certain task. \n",
    "\n",
    "Deep Learning is small subset of Machine Learning that only uses neural networks. "
   ]
  },
  {
   "cell_type": "markdown",
   "metadata": {},
   "source": [
    "#### 3. What are various types of Machine Learning? What is Supervised Learning, Unsupervised Learning, Semi-supervised Learning and Reinforcement Learning? Give some examples of these types of Machine Learning."
   ]
  },
  {
   "cell_type": "markdown",
   "metadata": {},
   "source": [
    "**Supervised Learning** : Supervised Learning involves learning from data that consists of features and it's corresponding labels. \n",
    "\n",
    "**Semi-Supervised Learning** : Semi-Supervised learning involves a small amount of labeled data and a much larger set of unlabeled data. \n",
    "\n",
    "**Unsupervisied Learning** : Involves almost no labeled data.\n",
    "\n",
    "**Reinforcement Learning** : Goal oriented learning where the agent tries to maximise a reward function. "
   ]
  },
  {
   "cell_type": "markdown",
   "metadata": {},
   "source": [
    "#### 4. Explain Deep Learning and Neural Networks."
   ]
  },
  {
   "cell_type": "markdown",
   "metadata": {},
   "source": [
    "Neural Networks consists of stacking up of multiple neurons, to either perform a classification task or a regression task. These neurons can be thought of as simple logistic regression units. \n",
    "\n",
    "Deep Learning consists of using deep neural networks, as opposed to shallow networks, to obtain the results. "
   ]
  },
  {
   "cell_type": "markdown",
   "metadata": {},
   "source": [
    "#### 5. What is the difference between Data Mining and Machine learning?"
   ]
  },
  {
   "cell_type": "markdown",
   "metadata": {},
   "source": [
    "Data Mining consists of making sense of patterns in data whereas machine learning involves making predictions or calculating a target variable, given data."
   ]
  },
  {
   "cell_type": "markdown",
   "metadata": {},
   "source": [
    "#### 6. What are the various steps involved in a Machine Learning Process?"
   ]
  },
  {
   "cell_type": "markdown",
   "metadata": {},
   "source": [
    "The steps involved in a machine learning process are as follows:\n",
    "\n",
    "1. Data Collection\n",
    "\n",
    "2. Data cleaning\n",
    "\n",
    "3. Data wrangling\n",
    "\n",
    "4. Exploratory Data Analysis, to understand which models are best suited for the task.\n",
    "\n",
    "5. Training the model.\n",
    "\n",
    "6. Testing the model on unseen data.\n",
    "\n",
    "7. Deploying the model"
   ]
  },
  {
   "cell_type": "markdown",
   "metadata": {},
   "source": [
    "#### 7. What is $r^2$? How is it interpreted?"
   ]
  },
  {
   "cell_type": "markdown",
   "metadata": {},
   "source": [
    "$r^2$ is used to identify how much of the variance in the target variable is explained by the model. A model with high $r^2$ is said to explain a lot of the variance, while a low $r^2$ is the opposite."
   ]
  },
  {
   "cell_type": "markdown",
   "metadata": {},
   "source": [
    "#### 8. What is residual analysis?"
   ]
  },
  {
   "cell_type": "markdown",
   "metadata": {},
   "source": [
    "Residual analysis consists of checking how good the residual is. Now, a residual is nothing but the difference between the observed value and the predicted value. "
   ]
  },
  {
   "cell_type": "markdown",
   "metadata": {},
   "source": [
    "Q9. What are Bland Altman plots?"
   ]
  },
  {
   "cell_type": "markdown",
   "metadata": {},
   "source": [
    "Q10. What is ICC?"
   ]
  }
 ],
 "metadata": {
  "kernelspec": {
   "display_name": "Python 3",
   "language": "python",
   "name": "python3"
  },
  "language_info": {
   "codemirror_mode": {
    "name": "ipython",
    "version": 3
   },
   "file_extension": ".py",
   "mimetype": "text/x-python",
   "name": "python",
   "nbconvert_exporter": "python",
   "pygments_lexer": "ipython3",
   "version": "3.6.7"
  }
 },
 "nbformat": 4,
 "nbformat_minor": 2
}
